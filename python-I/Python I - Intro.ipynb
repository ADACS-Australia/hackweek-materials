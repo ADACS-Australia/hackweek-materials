{
 "cells": [
  {
   "cell_type": "markdown",
   "metadata": {
    "slideshow": {
     "slide_type": "slide"
    }
   },
   "source": [
    "# Python I\n",
    "\n",
    "## ADACS Hack-week Intro\n",
    "\n",
    "> Wherein all the happy workshop participants make sure they are on the same page."
   ]
  },
  {
   "cell_type": "markdown",
   "metadata": {
    "slideshow": {
     "slide_type": "slide"
    }
   },
   "source": [
    "# Outline\n",
    "\n",
    "* Abstraction\n",
    "* Coding Standards and Best Practices\n",
    "* Cool Tools"
   ]
  },
  {
   "cell_type": "markdown",
   "metadata": {
    "slideshow": {
     "slide_type": "slide"
    }
   },
   "source": [
    "#### But first...."
   ]
  },
  {
   "cell_type": "markdown",
   "metadata": {
    "slideshow": {
     "slide_type": "subslide"
    }
   },
   "source": [
    "## Coding is Work"
   ]
  },
  {
   "cell_type": "markdown",
   "metadata": {
    "slideshow": {
     "slide_type": "fragment"
    }
   },
   "source": [
    "## Tools make Work easier"
   ]
  },
  {
   "cell_type": "markdown",
   "metadata": {
    "slideshow": {
     "slide_type": "fragment"
    }
   },
   "source": [
    "### Therefore..."
   ]
  },
  {
   "cell_type": "markdown",
   "metadata": {
    "slideshow": {
     "slide_type": "fragment"
    }
   },
   "source": [
    "# USE TOOLS TO MAKE YOUR LIFE EASIER"
   ]
  },
  {
   "cell_type": "markdown",
   "metadata": {
    "slideshow": {
     "slide_type": "subslide"
    }
   },
   "source": [
    "# USE TOOLS TO MAKE YOUR LIFE EASIER\n",
    "\n",
    "It's some of those tools that we will be talking about today."
   ]
  },
  {
   "cell_type": "markdown",
   "metadata": {
    "slideshow": {
     "slide_type": "slide"
    }
   },
   "source": [
    "# Pop Quiz\n",
    "\n",
    "> ## What is the primary tool a programmer uses?"
   ]
  },
  {
   "cell_type": "markdown",
   "metadata": {
    "slideshow": {
     "slide_type": "subslide"
    }
   },
   "source": [
    "# Your Editor"
   ]
  },
  {
   "cell_type": "markdown",
   "metadata": {
    "slideshow": {
     "slide_type": "subslide"
    }
   },
   "source": [
    "# Pop Quiz\n",
    "\n",
    "> ## What is the most used \"tool\" in your editor?"
   ]
  },
  {
   "cell_type": "markdown",
   "metadata": {
    "slideshow": {
     "slide_type": "subslide"
    }
   },
   "source": [
    "# Tab"
   ]
  },
  {
   "cell_type": "markdown",
   "metadata": {
    "slideshow": {
     "slide_type": "slide"
    }
   },
   "source": [
    "# Now that we have that out of the way...\n",
    "\n",
    "# Let's take a tour!"
   ]
  },
  {
   "cell_type": "markdown",
   "metadata": {
    "slideshow": {
     "slide_type": "slide"
    }
   },
   "source": [
    "# Jupyter Notebooks\n"
   ]
  },
  {
   "cell_type": "markdown",
   "metadata": {
    "slideshow": {
     "slide_type": "fragment"
    }
   },
   "source": [
    "### Ways to use a notebook:\n",
    "\n",
    "* Development\n",
    "* Discovery\n",
    "* Presentation"
   ]
  },
  {
   "cell_type": "markdown",
   "metadata": {
    "slideshow": {
     "slide_type": "slide"
    }
   },
   "source": [
    "# The Fundamentals\n",
    "\n",
    "* Modes\n",
    "    * Edit\n",
    "    * Command\n",
    "* \"Cells\"\n",
    "    * Boxes where you type text.\n",
    "* Cell types\n",
    "    * Code\n",
    "    * Markdown    "
   ]
  },
  {
   "cell_type": "markdown",
   "metadata": {
    "slideshow": {
     "slide_type": "subslide"
    }
   },
   "source": [
    "* Running cells\n",
    "    * You can \"run\" or execute the code in a cell.\n",
    "    * `Ctrl-Enter` - run cell, stay on same cell.\n",
    "    * `Shift-Enter` - run cell, go to next cell.\n",
    "* Help\n",
    "    * `?`\n",
    "    * `help()`"
   ]
  },
  {
   "cell_type": "markdown",
   "metadata": {
    "slideshow": {
     "slide_type": "subslide"
    }
   },
   "source": [
    "## Some examples\n",
    "\n",
    "* [Colab - WCS Plot](https://colab.research.google.com/drive/1JbIjxv8IQjA4SB24I__HCi7pAmUPp3jP)\n",
    "* [TESS Stellar Overlap](https://colab.research.google.com/drive/1EAWWDkjYqi7794BNe1_IBc4K42Cg-9E-)\n",
    "* [Buildup functions](https://colab.research.google.com/drive/1YbL6hYrx0kjkezYaQ2t0cXBjOcvNUgwS)"
   ]
  }
 ],
 "metadata": {
  "celltoolbar": "Slideshow",
  "kernelspec": {
   "display_name": "Python 3",
   "language": "python",
   "name": "python3"
  },
  "language_info": {
   "codemirror_mode": {
    "name": "ipython",
    "version": 3
   },
   "file_extension": ".py",
   "mimetype": "text/x-python",
   "name": "python",
   "nbconvert_exporter": "python",
   "pygments_lexer": "ipython3",
   "version": "3.7.6"
  }
 },
 "nbformat": 4,
 "nbformat_minor": 4
}
