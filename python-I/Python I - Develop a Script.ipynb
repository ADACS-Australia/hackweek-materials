{
 "cells": [
  {
   "cell_type": "markdown",
   "metadata": {},
   "source": [
    "# Let's make a (useless) script!"
   ]
  },
  {
   "cell_type": "code",
   "execution_count": 1,
   "metadata": {},
   "outputs": [],
   "source": [
    "picid = 191033646\n",
    "\n",
    "base_url = 'https://storage.googleapis.com/panoptes-data/191033646/PAN001_14d3bd_20200106T064046/20200106T150422'\n",
    "\n",
    "comparison_url = f'{base_url}/comparison-psc.csv'\n",
    "target_url = f'{base_url}/target-psc.csv'\n",
    "metadata_url = f'{base_url}/reference-metadata.csv'\n",
    "lightcurve_url = f'{base_url}/lightcurve-rgb.csv'"
   ]
  }
 ],
 "metadata": {
  "kernelspec": {
   "display_name": "Python 3",
   "language": "python",
   "name": "python3"
  },
  "language_info": {
   "codemirror_mode": {
    "name": "ipython",
    "version": 3
   },
   "file_extension": ".py",
   "mimetype": "text/x-python",
   "name": "python",
   "nbconvert_exporter": "python",
   "pygments_lexer": "ipython3",
   "version": "3.7.6"
  }
 },
 "nbformat": 4,
 "nbformat_minor": 4
}
