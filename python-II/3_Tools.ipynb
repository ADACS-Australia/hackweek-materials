{
 "cells": [
  {
   "cell_type": "markdown",
   "metadata": {
    "slideshow": {
     "slide_type": "slide"
    }
   },
   "source": [
    "# Profiling, Useful Tools and Other Miscellany"
   ]
  },
  {
   "cell_type": "markdown",
   "metadata": {
    "slideshow": {
     "slide_type": "slide"
    }
   },
   "source": [
    "## Timing and Profiling\n",
    "\n",
    "* There are a number of tools around that help you work out why your code is slow\n",
    "  - [py-spy](https://github.com/benfred/py-spy) - my current favourite (though may be a challenge to install)\n",
    "  - [timeit](https://docs.python.org/3/library/timeit.html)/[profile/cProfile](https://docs.python.org/3/library/profile.html) - function level profiling\n",
    "  - [line_profiler](https://github.com/pyutils/line_profiler) - line level profiling (combine with profile)\n",
    "  "
   ]
  },
  {
   "cell_type": "markdown",
   "metadata": {
    "slideshow": {
     "slide_type": "subslide"
    }
   },
   "source": [
    "## Tracking memory\n",
    "\n",
    "* It's also possible to track what is using memory:\n",
    "  - [memory_profiler](https://github.com/pythonprofilers/memory_profiler)\n",
    "  - [tracemalloc](https://docs.python.org/3/library/tracemalloc.html)"
   ]
  },
  {
   "cell_type": "markdown",
   "metadata": {
    "slideshow": {
     "slide_type": "slide"
    }
   },
   "source": [
    "## Useful stdlib modules you should use\n",
    "\n",
    "See https://pymotw.com/3/ for lots of examples on how to use the standard library\n",
    "\n",
    "  - [pathlib](https://docs.python.org/3/library/pathlib.html) (handle file paths better)\n",
    "  - [shutil](https://docs.python.org/3/library/shutil.html) (makes it easy to copy/move files around)\n",
    "  - [argparse](https://docs.python.org/3/library/argparse.html) (write scripts which self-document)\n",
    "  - [subprocess.run](https://docs.python.org/3/library/subprocess.html#subprocess.run) (the easiest way of running subprocesses)\n",
    "  - [itertools](https://docs.python.org/3/library/itertools.html) (tools to work through large sets of data)\n",
    "  - [functools](https://docs.python.org/3/library/functools.html) (tools to make your functions better)"
   ]
  },
  {
   "cell_type": "markdown",
   "metadata": {
    "slideshow": {
     "slide_type": "slide"
    }
   },
   "source": [
    "## Useful packages on PyPI you should use\n",
    "\n",
    "  - [attrs](https://www.attrs.org/en/stable/) (write less when making classes)\n",
    "  - [logbook](https://logbook.readthedocs.io/en/stable/) (better logging - easy colourful logs)\n",
    "  - [tqdm](https://tqdm.github.io/) (progress bars!)\n",
    "  - [arrow](https://arrow.readthedocs.io/en/latest/) (handle time correctly)\n",
    "  - [pympler](https://pympler.readthedocs.io/en/latest/) (measure memory of objects)\n",
    "  - [mplcursors](https://mplcursors.readthedocs.io/en/stable/) (interactive data selection cursors)\n",
    "  - [palettable](https://jiffyclub.github.io/palettable/) (lots of different colour maps)"
   ]
  },
  {
   "cell_type": "markdown",
   "metadata": {
    "slideshow": {
     "slide_type": "slide"
    }
   },
   "source": [
    "## Tools to make your python code better\n",
    "\n",
    "* [faulthandler](https://docs.python.org/3/library/faulthandler.html) (get backtraces on segfault)\n",
    "* [yapf](https://github.com/google/yapf)/[black](https://black.readthedocs.io/en/stable/) (reformat your code to a standard style)\n",
    "* [flake8](http://flake8.pycqa.org/)/[pylint](http://pylint.pycqa.org/en/latest/) (find mistakes in your code)\n",
    "* [sybil](https://sybil.readthedocs.io/en/latest/) (run the code examples in your documentation as tests)"
   ]
  }
 ],
 "metadata": {
  "celltoolbar": "Slideshow",
  "kernelspec": {
   "display_name": "Python 3",
   "language": "python",
   "name": "python3"
  },
  "language_info": {
   "codemirror_mode": {
    "name": "ipython",
    "version": 3
   },
   "file_extension": ".py",
   "mimetype": "text/x-python",
   "name": "python",
   "nbconvert_exporter": "python",
   "pygments_lexer": "ipython3",
   "version": "3.7.6"
  },
  "rise": {
   "autolaunch": true,
   "enable_chalkboard": true,
   "scroll": true,
   "theme": "sky"
  }
 },
 "nbformat": 4,
 "nbformat_minor": 4
}
