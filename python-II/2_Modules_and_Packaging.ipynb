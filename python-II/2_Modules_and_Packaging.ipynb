{
 "cells": [
  {
   "cell_type": "markdown",
   "metadata": {
    "slideshow": {
     "slide_type": "slide"
    }
   },
   "source": [
    "# Modules and Packaging"
   ]
  },
  {
   "cell_type": "markdown",
   "metadata": {
    "slideshow": {
     "slide_type": "slide"
    }
   },
   "source": [
    "Two halves to the this presentation:\n",
    "\n",
    "1. Modules (how they work, python import logic) and virtualenv\n",
    "2. Packaging (setup.py)"
   ]
  },
  {
   "cell_type": "markdown",
   "metadata": {
    "slideshow": {
     "slide_type": "subslide"
    }
   },
   "source": [
    "## Modules\n",
    "\n",
    "  - what is a module\n",
    "  - what is a package\n",
    "  - importing\n",
    "  - python path\n",
    "  - virtualenv/interpreters\n",
    "  - entry-points"
   ]
  },
  {
   "cell_type": "markdown",
   "metadata": {
    "slideshow": {
     "slide_type": "subslide"
    }
   },
   "source": [
    "## Packaging (setup.py)\n",
    "\n",
    "* what resources to trust and what not to trust\n",
    "* projects to avoid and projects to look out for\n",
    "* creating a package\n",
    "* releasing as open source\n",
    "* beyond pure python"
   ]
  },
  {
   "cell_type": "markdown",
   "metadata": {
    "slideshow": {
     "slide_type": "slide"
    }
   },
   "source": [
    "# Modules"
   ]
  },
  {
   "cell_type": "markdown",
   "metadata": {
    "slideshow": {
     "slide_type": "slide"
    }
   },
   "source": [
    "## What is a module\n",
    "\n",
    "Two things:\n",
    "* .py file (or possibly something else, if there's compiled code or other magic going on).\n",
    "* A namespace (an object which holds variables, functions, classes or even other modules).\n",
    "\n",
    "They are related, but changing one doesn't affect the other (we'll come to reloading in a bit)."
   ]
  },
  {
   "cell_type": "markdown",
   "metadata": {
    "slideshow": {
     "slide_type": "subslide"
    }
   },
   "source": [
    "## A special module: `__main__`\n",
    "\n",
    "* `__main__` is the name allocated to the first python file run\n",
    "* `python example.py` -> `example.py` is `__main__`\n",
    "* This is how\n",
    "```python\n",
    "if __name__ == '__main__':\n",
    "    main()\n",
    "```\n",
    "works\n",
    "* See https://docs.python.org/3/library/__main__.html#module-__main__"
   ]
  },
  {
   "cell_type": "markdown",
   "metadata": {
    "slideshow": {
     "slide_type": "slide"
    }
   },
   "source": [
    "## What is a package\n",
    "\n",
    "* Module which contains other modules\n",
    "* A directory with a `__init__.py` file (usually)\n",
    "* Not the thing we distribute code as, it just has the same name :("
   ]
  },
  {
   "cell_type": "markdown",
   "metadata": {
    "slideshow": {
     "slide_type": "subslide"
    }
   },
   "source": [
    "## Namespace packages :(\n",
    "\n",
    "* Is a way of sharing code between different groups (e.g. `scikits.learn`, `scikits.images`)\n",
    "* Too many different, incompatible ways, causing too much breakage\n",
    "* Packages renamed (`scikits.learn` -> `sklearn`, `scikits.images` -> `skimage`)\n",
    "* Avoid making new ones"
   ]
  },
  {
   "cell_type": "markdown",
   "metadata": {
    "slideshow": {
     "slide_type": "slide"
    }
   },
   "source": [
    "## Importing\n",
    "\n",
    "* See https://docs.python.org/3/reference/import.html and https://docs.python.org/3/library/importlib.html for all the details about how importing works (there are a few surprising bits of how importing works).\n"
   ]
  },
  {
   "cell_type": "markdown",
   "metadata": {
    "slideshow": {
     "slide_type": "subslide"
    }
   },
   "source": [
    "* Two types of imports:\n",
    "  1. Absolute\n",
    "  2. Relative\n",
    "* Absolute: `import numpy.fft`\n",
    "* Relative: `from . import my_module`\n",
    "* **Note:** On Python 2, `import numpy` will import `numpy.py` in the current directory if it exists (use `from __future import absolute_import` to fix this) "
   ]
  },
  {
   "cell_type": "markdown",
   "metadata": {
    "slideshow": {
     "slide_type": "subslide"
    }
   },
   "source": [
    "## Star imports\n",
    "\n",
    "* `from numpy import *` works by looking at `numpy.__all__` first, otherwise grabs everything (can be quite slow)"
   ]
  },
  {
   "cell_type": "markdown",
   "metadata": {
    "slideshow": {
     "slide_type": "subslide"
    }
   },
   "source": [
    "## Renaming imports\n",
    "\n",
    "* Can use `as` to set name of import (to avoid conflicts)\n",
    "* Can use it multiple times: `from numpy import sin as np_sin, cos as np_cos`"
   ]
  },
  {
   "cell_type": "markdown",
   "metadata": {
    "slideshow": {
     "slide_type": "subslide"
    }
   },
   "source": [
    "## (Aside) Reloading\n",
    "\n",
    "* You can try to reloading code via `importlib.reload` (or other reloading code) however:\n",
    "  - Most compiled modules aren't set up to handle reloading, you may get random segfaults (or corruption of data)\n",
    "  - Some modules are quite dynamic, and will not reload correctly\n",
    "* Best to save work to a file (e.g. csv, fits, HDF5 -> pickle is also useful, but assumes modules do not change), and then rerun the code."
   ]
  },
  {
   "cell_type": "markdown",
   "metadata": {
    "slideshow": {
     "slide_type": "slide"
    }
   },
   "source": [
    "## The python path (`sys.path`)\n",
    "\n",
    "* The python path is like `$PATH` in the shell: it sets what order different places should be looked at for a module.\n",
    "* The python path on my system is currently:"
   ]
  },
  {
   "cell_type": "code",
   "execution_count": 2,
   "metadata": {
    "slideshow": {
     "slide_type": "fragment"
    }
   },
   "outputs": [
    {
     "name": "stdout",
     "output_type": "stream",
     "text": [
      "['/home/aragilar/Projects/Uni/PhD/ADACS-AAO-PythonII', '/home/aragilar/.virtualenvs/tmp-83bfef26f6db874/lib/python37.zip', '/home/aragilar/.virtualenvs/tmp-83bfef26f6db874/lib/python3.7', '/home/aragilar/.virtualenvs/tmp-83bfef26f6db874/lib/python3.7/lib-dynload', '/usr/lib/python3.7', '', '/home/aragilar/.virtualenvs/tmp-83bfef26f6db874/lib/python3.7/site-packages', '/home/aragilar/.virtualenvs/tmp-83bfef26f6db874/lib/python3.7/site-packages/IPython/extensions', '/home/aragilar/.ipython']\n"
     ]
    }
   ],
   "source": [
    "import sys; print(sys.path)"
   ]
  },
  {
   "cell_type": "markdown",
   "metadata": {
    "slideshow": {
     "slide_type": "subslide"
    }
   },
   "source": [
    "* Note that `''` shows that the current directory is on the path"
   ]
  },
  {
   "cell_type": "markdown",
   "metadata": {
    "slideshow": {
     "slide_type": "subslide"
    }
   },
   "source": [
    "* You can configure the python path via `$PYTHONPATH` but don't, there are better ways, and having `$PYTHONPATH` set is one of the first things to look at when modules are not importing correctly."
   ]
  },
  {
   "cell_type": "markdown",
   "metadata": {
    "slideshow": {
     "slide_type": "slide"
    }
   },
   "source": [
    "## Virtualenv and Interpreters\n",
    "\n",
    "* When python starts, to work out where the standard library and other packages are, it looks for a site.py (or a pyvenv.cfg on Python 3.3), which contains the right information to load the rest of python.\n",
    "* Virtualenv is a package which does the right set of things to make this work, especially on older (pre Python 3.3) versions where this is harder.\n",
    "* Conda environments work in a similar way"
   ]
  },
  {
   "cell_type": "markdown",
   "metadata": {
    "slideshow": {
     "slide_type": "subslide"
    }
   },
   "source": [
    "## Why use virtualenv (or conda environments)?\n",
    "\n",
    "* These projects allow you to experiment with newer versions of packages\n",
    "* Different projects may require older numpy/astropy versions\n",
    "* Keeps everything clean -> easy reinstalls."
   ]
  },
  {
   "cell_type": "markdown",
   "metadata": {
    "slideshow": {
     "slide_type": "subslide"
    }
   },
   "source": [
    "## Using virtualenv — Demo time!"
   ]
  },
  {
   "cell_type": "markdown",
   "metadata": {
    "slideshow": {
     "slide_type": "subslide"
    }
   },
   "source": [
    "## (Aside) `python -m pip`\n",
    "\n",
    "* One common source of issues with installs is where `python` and `pip` are associated with different python interpreters (you can try to identify this via `which python` and `which pip`).\n",
    "* It is strongly recommended (by the Python Packaging Authority - PyPA) to use `python -m pip` (or `python3 -m pip`).\n",
    "* Don't use `pip3`, it's more likely than `pip` to be pointing to the wrong place (as `pip3` is being phased out)."
   ]
  },
  {
   "cell_type": "markdown",
   "metadata": {
    "slideshow": {
     "slide_type": "subslide"
    }
   },
   "source": [
    "## Useful tools\n",
    "\n",
    "* [virtualenvwrapper](https://virtualenvwrapper.readthedocs.io/en/latest/) helps with managing lots of virtualenvs, and can create temporary ones for testing with one command\n",
    "* [tox](https://tox.readthedocs.io/en/latest/) makes it easy to test with lots of different python versions/configurations at ones"
   ]
  },
  {
   "cell_type": "markdown",
   "metadata": {
    "slideshow": {
     "slide_type": "slide"
    }
   },
   "source": [
    "## (Extra) Entry Points and Plugins\n",
    "\n",
    "* It's possible to use the python import system to load data stored in a package\n",
    "* Or create wrappers around python functions to call them from shell\n",
    "* `pkg_resources` was the old way of doing (part of setuptools)\n",
    "* [`importlib.resources`](https://docs.python.org/3/library/importlib.html#module-importlib.resources) is its replacement\n",
    "* There's other projects like [pluggy](https://pypi.org/project/pluggy/), which makes it easier to make plugin system"
   ]
  },
  {
   "cell_type": "markdown",
   "metadata": {
    "slideshow": {
     "slide_type": "slide"
    }
   },
   "source": [
    "# Packaging"
   ]
  },
  {
   "cell_type": "markdown",
   "metadata": {
    "slideshow": {
     "slide_type": "slide"
    }
   },
   "source": [
    "## First, a warning\n",
    "\n",
    "* Unlike many areas of python, searching on the internet is going to give you incorrect information\n",
    "  - Information is likely out-of-date, not applicable, or just wrong\n",
    "  - See https://stackoverflow.com/a/4806227/1306020 - this once was the correct answer (with infographics!), now it is almost completely wrong"
   ]
  },
  {
   "cell_type": "markdown",
   "metadata": {
    "slideshow": {
     "slide_type": "subslide"
    }
   },
   "source": [
    "* Python is used by many different groups (webdev, science, sysadmin, education, VF/CGI, desktop applications, ...), all of which have different needs.\n",
    "  - This has created a long legacy of projects which claim to solve everything, only for the projects to die a few years later."
   ]
  },
  {
   "cell_type": "markdown",
   "metadata": {
    "slideshow": {
     "slide_type": "subslide"
    }
   },
   "source": [
    "* After many years of different resources contradicting each other, [packaging.python.org](https://packaging.python.org/) is the official place for looking up how to install, package and distribute python code. See what it says first, rather than google."
   ]
  },
  {
   "cell_type": "markdown",
   "metadata": {
    "slideshow": {
     "slide_type": "slide"
    }
   },
   "source": [
    "## Projects to avoid\n",
    "\n",
    "* Some projects that whilst sound nice, will likely cause problems down the road (come speak to me if you're curious why):\n",
    "  - pipenv\n",
    "  - poetry\n",
    "  - hatch"
   ]
  },
  {
   "cell_type": "markdown",
   "metadata": {
    "slideshow": {
     "slide_type": "subslide"
    }
   },
   "source": [
    "## Projects to look out for\n",
    "\n",
    "* I'm not ready to recommend [flit](https://flit.readthedocs.io/en/latest/) yet, but it will avoid scope creep like the other projects, and so should be nicer than the current system. Maybe go ahead and try it?"
   ]
  },
  {
   "cell_type": "markdown",
   "metadata": {
    "slideshow": {
     "slide_type": "slide"
    }
   },
   "source": [
    "## Creating a python project (and packaging it)\n",
    "\n",
    "* [packaging.python.org](https://packaging.python.org/) has a full tutorial on how to package your code, with all the options explained, but I'm going to quickly go over the template I use to setup my projects with versioning handled by git\n",
    "* You will need a single directory which will hold everything related to the project (code, documentation, tests), and make this a git repository\n"
   ]
  },
  {
   "cell_type": "markdown",
   "metadata": {
    "slideshow": {
     "slide_type": "subslide"
    }
   },
   "source": [
    "* Inside this directory, create a setup.py file, a setup.cfg file, and a src directory\n",
    "* The src directory will hold your code (we use an src directory to avoid some fun with python paths)"
   ]
  },
  {
   "cell_type": "markdown",
   "metadata": {
    "slideshow": {
     "slide_type": "subslide"
    }
   },
   "source": [
    "Paste the following into the setup.py file (or see the template next to this file):\n",
    "```\n",
    "import setuptools\n",
    "import versioneer\n",
    "\n",
    "with open(filename, 'r') as f:\n",
    "    long_description = f.read()\n",
    "\n",
    "setuptools.setup(\n",
    "    cmdclass=versioneer.get_cmdclass(),\n",
    "    name = \"package-name\",\n",
    "    version = versioneer.get_version(),\n",
    "    author = \"\",\n",
    "    author_email = \"\",\n",
    "    description = \"\",\n",
    "    long_description = long_description,\n",
    "    packages = setuptools.find_packages('src'),\n",
    "    package_dir = {'': 'src'},\n",
    "    install_requires = [],\n",
    "    python_requires = '',\n",
    "    license = \"\",\n",
    "    keywords = \"\",\n",
    "    url = \"\",\n",
    "    project_urls={\n",
    "        'Documentation': '',\n",
    "        'Source': '',\n",
    "        'Tracker': '',\n",
    "    },\n",
    "    classifiers=[\n",
    "    ],\n",
    ")\n",
    "```"
   ]
  },
  {
   "cell_type": "markdown",
   "metadata": {
    "slideshow": {
     "slide_type": "subslide"
    }
   },
   "source": [
    "(You'll need to fill in most of the blanks, but most aren't required)"
   ]
  },
  {
   "cell_type": "markdown",
   "metadata": {
    "slideshow": {
     "slide_type": "subslide"
    }
   },
   "source": [
    "Paste the following into the `setup.cfg` file (replacing `your_package_name`):\n",
    "```\n",
    "[versioneer]\n",
    "VCS = git\n",
    "style = pep440\n",
    "versionfile_source = src/your_package_name/_version.py\n",
    "versionfile_build = your_package_name/_version.py\n",
    "tag_prefix = v\n",
    "```"
   ]
  },
  {
   "cell_type": "markdown",
   "metadata": {
    "slideshow": {
     "slide_type": "subslide"
    }
   },
   "source": [
    "Finally, run `python -m pip install -U versioneer setuptools`, and then `versioneer install`. We've now set up everything."
   ]
  },
  {
   "cell_type": "markdown",
   "metadata": {
    "slideshow": {
     "slide_type": "slide"
    }
   },
   "source": [
    "## Sharing your code\n",
    "\n",
    "* To package up your code, run `python setup.py sdist`, this will create a new directory `dist/` will will contain a tar file which you can send people.\n",
    "* You can install your code for testing by going `pip install .` in the directory with the `setup.py` file, or by going `pip install dist/my-project-0.1.tar.gz` (or similar)."
   ]
  },
  {
   "cell_type": "markdown",
   "metadata": {
    "slideshow": {
     "slide_type": "subslide"
    }
   },
   "source": [
    "* You can also make the code public by uploading it to the [Python Package Index (PyPI or the cheeseshop)](https://pypi.org)\n",
    "* You want to use twine (get it via `python -m pip install twine`) to upload the file\n",
    "  - `twine upload dist/project-0.1.tar.gz` or similar will work - the most up to date and secure instructions are [here](https://packaging.python.org/tutorials/packaging-projects/#uploading-the-distribution-archives)."
   ]
  },
  {
   "cell_type": "markdown",
   "metadata": {
    "slideshow": {
     "slide_type": "subslide"
    }
   },
   "source": [
    "* Note that before you go uploading code to PyPI, make sure you [choose a license to release it under](https://choosealicense.com/), so that people can use it. You may need to speak to your supervisor or other people if they have contributed code to the project, when choosing a license."
   ]
  },
  {
   "cell_type": "markdown",
   "metadata": {
    "slideshow": {
     "slide_type": "slide"
    }
   },
   "source": [
    "## Additional topics"
   ]
  },
  {
   "cell_type": "markdown",
   "metadata": {
    "slideshow": {
     "slide_type": "subslide"
    }
   },
   "source": [
    "## Generating scripts\n",
    "\n",
    "* Here's how to generate a script from function (make sure it has no required arguments though!)\n",
    "```\n",
    "    entry_points = {\n",
    "        'console_scripts': [\n",
    "            \"scriptname = package_name.module_name:function_name\",\n",
    "        ],\n",
    "    }\n",
    "```\n"
   ]
  },
  {
   "cell_type": "markdown",
   "metadata": {
    "slideshow": {
     "slide_type": "subslide"
    }
   },
   "source": [
    "## Beyond pure python\n",
    "\n",
    "* Covering how to use non-python code as part of a python package is beyond the scope of this workshop, come see Ellert or I for more details. Here's some links to get you started:\n",
    "  - [c-extensions](https://packaging.python.org/guides/packaging-binary-extensions/)\n",
    "  - [cython](https://cython.org)\n",
    "  - [cffi](https://cffi.readthedocs.io/en/latest/)/[ctypes](https://docs.python.org/3/library/ctypes.html)\n",
    "  - [numba](https://numba.pydata.org/)\n",
    "  - [f2py and numpy](https://docs.scipy.org/doc/numpy/f2py/)"
   ]
  },
  {
   "cell_type": "markdown",
   "metadata": {
    "slideshow": {
     "slide_type": "slide"
    }
   },
   "source": [
    "# Questions"
   ]
  }
 ],
 "metadata": {
  "celltoolbar": "Slideshow",
  "kernelspec": {
   "display_name": "Python 3",
   "language": "python",
   "name": "python3"
  },
  "language_info": {
   "codemirror_mode": {
    "name": "ipython",
    "version": 3
   },
   "file_extension": ".py",
   "mimetype": "text/x-python",
   "name": "python",
   "nbconvert_exporter": "python",
   "pygments_lexer": "ipython3",
   "version": "3.7.6"
  },
  "rise": {
   "autolaunch": true,
   "enable_chalkboard": true,
   "scroll": true,
   "theme": "sky"
  }
 },
 "nbformat": 4,
 "nbformat_minor": 4
}
